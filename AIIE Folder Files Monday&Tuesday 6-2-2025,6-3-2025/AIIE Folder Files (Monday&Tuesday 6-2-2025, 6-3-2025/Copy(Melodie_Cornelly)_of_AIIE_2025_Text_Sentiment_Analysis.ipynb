{
  "nbformat": 4,
  "nbformat_minor": 0,
  "metadata": {
    "colab": {
      "provenance": []
    },
    "kernelspec": {
      "name": "python3",
      "display_name": "Python 3"
    },
    "language_info": {
      "name": "python"
    }
  },
  "cells": [
    {
      "cell_type": "markdown",
      "source": [
        "##**NLP Sentiment Analysis**"
      ],
      "metadata": {
        "id": "IBmIttI5tezk"
      }
    },
    {
      "cell_type": "markdown",
      "source": [
        "   ### Objective: Train → Save → Evaluate → Load → Predict"
      ],
      "metadata": {
        "id": "pcAqREM_upmf"
      }
    },
    {
      "cell_type": "code",
      "execution_count": null,
      "metadata": {
        "id": "2A0z9V3_tECp"
      },
      "outputs": [],
      "source": [
        "!pip install tensorflow nltk"
      ]
    },
    {
      "cell_type": "markdown",
      "source": [
        "Import libraries"
      ],
      "metadata": {
        "id": "JPiLFzSHt0TL"
      }
    },
    {
      "cell_type": "code",
      "source": [
        "import tensorflow as tf\n",
        "from tensorflow.keras.models import Sequential, load_model\n",
        "from tensorflow.keras.layers import Embedding, GlobalAveragePooling1D, Dense\n",
        "from tensorflow.keras.preprocessing.text import Tokenizer\n",
        "from tensorflow.keras.preprocessing.sequence import pad_sequences\n",
        "import nltk\n",
        "from nltk.corpus import stopwords\n",
        "from nltk.tokenize import word_tokenize\n",
        "import numpy as np\n",
        "import string\n",
        "import os\n",
        "import pickle"
      ],
      "metadata": {
        "id": "VUN5OFzstNkc"
      },
      "execution_count": 2,
      "outputs": []
    },
    {
      "cell_type": "markdown",
      "source": [
        "    Downloads the tokenizer (punkt) and list of English stopwords."
      ],
      "metadata": {
        "id": "swmuxDGrvAEk"
      }
    },
    {
      "cell_type": "code",
      "source": [
        "# Download NLTK resources\n",
        "nltk.download('punkt')\n",
        "nltk.download('stopwords')\n",
        "nltk.download('punkt_tab') # Download the missing resource"
      ],
      "metadata": {
        "id": "d4QdbzV4u6o2"
      },
      "execution_count": null,
      "outputs": []
    },
    {
      "cell_type": "code",
      "source": [
        "# 1. Sample raw text and labels\n",
        "raw_sentences = [\n",
        "    \"I love machine learning!\",\n",
        "    \"This is a great course.\",\n",
        "    \"NLP is fascinating.\",\n",
        "    \"I hate this subject.\",\n",
        "    \"This is boring.\",\n",
        "    \"I do not like winters.\"\n",
        "]\n",
        "labels = [1, 1, 1, 0, 0, 0]  # 1 = positive, 0 = negative"
      ],
      "metadata": {
        "id": "fz8TnzlruU2V"
      },
      "execution_count": 4,
      "outputs": []
    },
    {
      "cell_type": "code",
      "source": [
        "# 2. Preprocessing: lowercase, remove punctuation, remove stopwords\n",
        "stop_words = set(stopwords.words('english'))"
      ],
      "metadata": {
        "id": "9afbJaZNZFgv"
      },
      "execution_count": 5,
      "outputs": []
    },
    {
      "cell_type": "code",
      "source": [
        "print(stop_words)"
      ],
      "metadata": {
        "colab": {
          "base_uri": "https://localhost:8080/"
        },
        "id": "bOMAUXJKZGsa",
        "outputId": "b4bdb352-62fb-4e94-d33d-00d875972eb5"
      },
      "execution_count": 6,
      "outputs": [
        {
          "output_type": "stream",
          "name": "stdout",
          "text": [
            "{\"it'd\", \"isn't\", 'him', 'its', 'under', 'but', 'do', \"he'll\", 'not', 'by', \"she's\", 'nor', \"weren't\", 'shan', \"haven't\", 'your', 'into', 't', 'up', 'has', \"hasn't\", 'm', 'being', 'over', 'should', \"they've\", 'no', 'very', 'myself', \"should've\", 'too', 'aren', 'before', 'me', 'few', 'hadn', 'shouldn', 'll', \"shouldn't\", 'this', 'a', 'when', 'through', 'above', 'it', \"he'd\", 'again', \"don't\", \"aren't\", 'herself', 'on', 'themselves', 'while', 'hasn', 'hers', 'isn', 'during', 'had', 'whom', \"you've\", \"i'll\", 'does', \"it'll\", \"won't\", 'own', 'he', \"he's\", 'so', \"they'd\", 'because', 'each', \"shan't\", 'at', 'these', \"they're\", 'where', 'if', 'what', 'is', \"they'll\", 'against', 'mightn', \"you're\", 'she', 'off', 'be', 'all', 'why', 'my', 'down', 'was', \"i'd\", 'am', 'both', \"we're\", 'them', 'don', 'they', 'doesn', 'about', 'haven', 'did', \"that'll\", 'his', \"didn't\", \"you'd\", \"it's\", \"we'll\", 're', 'to', \"mightn't\", \"needn't\", 'of', 'only', 'ma', 'most', 'some', 'just', 'once', 'in', 'have', 'o', 'out', \"we'd\", 'her', 'wouldn', 'were', \"she'd\", 'itself', 'the', 'with', \"wasn't\", 'their', 'that', \"she'll\", 'ourselves', \"mustn't\", 'below', \"you'll\", 'can', 'as', 'for', 'after', 'doing', 'needn', 'wasn', 'who', 'then', 'until', 'between', 'yourself', 'now', 's', \"hadn't\", 'couldn', \"i've\", 'didn', 'ours', 'yours', 've', 'himself', 'mustn', 'i', 'y', \"we've\", 'weren', \"couldn't\", 'other', 'will', 'yourselves', 'how', 'which', \"wouldn't\", 'd', 'theirs', 'we', 'and', 'same', 'than', 'an', 'those', 'been', \"doesn't\", 'from', \"i'm\", 'or', 'our', 'there', 'here', 'further', 'having', 'more', 'won', 'you', 'ain', 'such', 'any', 'are'}\n"
          ]
        }
      ]
    },
    {
      "cell_type": "code",
      "source": [
        "# 2. Preprocessing: lowercase, remove punctuation, remove stopwords\n",
        "stop_words = set(stopwords.words('english'))\n",
        "\n",
        "def preprocess_text(sentence):\n",
        "    tokens = word_tokenize(sentence.lower())  # lowercase + tokenize\n",
        "    tokens = [word for word in tokens if word.isalpha()]  # remove punctuation\n",
        "    tokens = [word for word in tokens if word not in stop_words]  # remove stopwords\n",
        "    return ' '.join(tokens)\n",
        "\n",
        "cleaned_sentences = [preprocess_text(sent) for sent in raw_sentences]"
      ],
      "metadata": {
        "id": "Id5JV5kPvKVE"
      },
      "execution_count": 7,
      "outputs": []
    },
    {
      "cell_type": "code",
      "source": [
        "print(cleaned_sentences)"
      ],
      "metadata": {
        "colab": {
          "base_uri": "https://localhost:8080/"
        },
        "id": "VOwJUesrvvDj",
        "outputId": "f3aff92b-65ed-4e9a-836f-686706ddbfca"
      },
      "execution_count": 8,
      "outputs": [
        {
          "output_type": "stream",
          "name": "stdout",
          "text": [
            "['love machine learning', 'great course', 'nlp fascinating', 'hate subject', 'boring', 'like winters']\n"
          ]
        }
      ]
    },
    {
      "cell_type": "code",
      "source": [
        "# Tokenize texts\n",
        "tokenizer = Tokenizer(num_words=100, oov_token='<OOV>')\n",
        "tokenizer.fit_on_texts(cleaned_sentences)\n",
        "sequences = tokenizer.texts_to_sequences(cleaned_sentences)\n",
        "padded = pad_sequences(sequences, padding='post')\n",
        "\n"
      ],
      "metadata": {
        "id": "C16t6OL0viT2"
      },
      "execution_count": 9,
      "outputs": []
    },
    {
      "cell_type": "code",
      "source": [
        "print(\"Word Index (Tokenized Vocabulary):\")\n",
        "print(tokenizer.word_index)"
      ],
      "metadata": {
        "colab": {
          "base_uri": "https://localhost:8080/"
        },
        "id": "a-8aJ2_jyKRs",
        "outputId": "9e07684f-ee38-414f-82bd-6defb87941a6"
      },
      "execution_count": 10,
      "outputs": [
        {
          "output_type": "stream",
          "name": "stdout",
          "text": [
            "Word Index (Tokenized Vocabulary):\n",
            "{'<OOV>': 1, 'love': 2, 'machine': 3, 'learning': 4, 'great': 5, 'course': 6, 'nlp': 7, 'fascinating': 8, 'hate': 9, 'subject': 10, 'boring': 11, 'like': 12, 'winters': 13}\n"
          ]
        }
      ]
    },
    {
      "cell_type": "code",
      "source": [
        "print(\"\\nTokenized Sentences (as sequences):\")\n",
        "for i, seq in enumerate(sequences):\n",
        "    print(f\"{raw_sentences[i]} → {seq}\")"
      ],
      "metadata": {
        "colab": {
          "base_uri": "https://localhost:8080/"
        },
        "id": "W1lksebOyb5D",
        "outputId": "c0e3530f-330c-453b-a4b8-e7b99c539ca2"
      },
      "execution_count": 11,
      "outputs": [
        {
          "output_type": "stream",
          "name": "stdout",
          "text": [
            "\n",
            "Tokenized Sentences (as sequences):\n",
            "I love machine learning! → [2, 3, 4]\n",
            "This is a great course. → [5, 6]\n",
            "NLP is fascinating. → [7, 8]\n",
            "I hate this subject. → [9, 10]\n",
            "This is boring. → [11]\n",
            "I do not like winters. → [12, 13]\n"
          ]
        }
      ]
    },
    {
      "cell_type": "code",
      "source": [
        "# with open(\"tokenizer.pkl\", \"rb\") as f:\n",
        "#     tokenizer = pickle.load(f)\n",
        "#     print(tokenizer)"
      ],
      "metadata": {
        "id": "4We-luu2xcUU"
      },
      "execution_count": 12,
      "outputs": []
    },
    {
      "cell_type": "code",
      "source": [
        "# Build model with input_shape explicitly declared in build()\n",
        "model = Sequential([\n",
        "    Embedding(input_dim=100, output_dim=16, input_length=padded.shape[1]),\n",
        "    GlobalAveragePooling1D(),\n",
        "    Dense(16, activation='relu'),\n",
        "    Dense(1, activation='sigmoid')\n",
        "])\n",
        "\n",
        "# Explicitly build the model before summary\n",
        "model.build(input_shape=(None, padded.shape[1]))\n",
        "\n",
        "# Now summary will display shapes and parameters\n",
        "model.summary()\n"
      ],
      "metadata": {
        "colab": {
          "base_uri": "https://localhost:8080/",
          "height": 324
        },
        "id": "IChtUEKa0p3e",
        "outputId": "cc60f08a-85e7-4f3d-ace0-ac000ddc422f"
      },
      "execution_count": 13,
      "outputs": [
        {
          "output_type": "stream",
          "name": "stderr",
          "text": [
            "/usr/local/lib/python3.11/dist-packages/keras/src/layers/core/embedding.py:90: UserWarning: Argument `input_length` is deprecated. Just remove it.\n",
            "  warnings.warn(\n"
          ]
        },
        {
          "output_type": "display_data",
          "data": {
            "text/plain": [
              "\u001b[1mModel: \"sequential\"\u001b[0m\n"
            ],
            "text/html": [
              "<pre style=\"white-space:pre;overflow-x:auto;line-height:normal;font-family:Menlo,'DejaVu Sans Mono',consolas,'Courier New',monospace\"><span style=\"font-weight: bold\">Model: \"sequential\"</span>\n",
              "</pre>\n"
            ]
          },
          "metadata": {}
        },
        {
          "output_type": "display_data",
          "data": {
            "text/plain": [
              "┏━━━━━━━━━━━━━━━━━━━━━━━━━━━━━━━━━┳━━━━━━━━━━━━━━━━━━━━━━━━┳━━━━━━━━━━━━━━━┓\n",
              "┃\u001b[1m \u001b[0m\u001b[1mLayer (type)                   \u001b[0m\u001b[1m \u001b[0m┃\u001b[1m \u001b[0m\u001b[1mOutput Shape          \u001b[0m\u001b[1m \u001b[0m┃\u001b[1m \u001b[0m\u001b[1m      Param #\u001b[0m\u001b[1m \u001b[0m┃\n",
              "┡━━━━━━━━━━━━━━━━━━━━━━━━━━━━━━━━━╇━━━━━━━━━━━━━━━━━━━━━━━━╇━━━━━━━━━━━━━━━┩\n",
              "│ embedding (\u001b[38;5;33mEmbedding\u001b[0m)           │ (\u001b[38;5;45mNone\u001b[0m, \u001b[38;5;34m3\u001b[0m, \u001b[38;5;34m16\u001b[0m)          │         \u001b[38;5;34m1,600\u001b[0m │\n",
              "├─────────────────────────────────┼────────────────────────┼───────────────┤\n",
              "│ global_average_pooling1d        │ (\u001b[38;5;45mNone\u001b[0m, \u001b[38;5;34m16\u001b[0m)             │             \u001b[38;5;34m0\u001b[0m │\n",
              "│ (\u001b[38;5;33mGlobalAveragePooling1D\u001b[0m)        │                        │               │\n",
              "├─────────────────────────────────┼────────────────────────┼───────────────┤\n",
              "│ dense (\u001b[38;5;33mDense\u001b[0m)                   │ (\u001b[38;5;45mNone\u001b[0m, \u001b[38;5;34m16\u001b[0m)             │           \u001b[38;5;34m272\u001b[0m │\n",
              "├─────────────────────────────────┼────────────────────────┼───────────────┤\n",
              "│ dense_1 (\u001b[38;5;33mDense\u001b[0m)                 │ (\u001b[38;5;45mNone\u001b[0m, \u001b[38;5;34m1\u001b[0m)              │            \u001b[38;5;34m17\u001b[0m │\n",
              "└─────────────────────────────────┴────────────────────────┴───────────────┘\n"
            ],
            "text/html": [
              "<pre style=\"white-space:pre;overflow-x:auto;line-height:normal;font-family:Menlo,'DejaVu Sans Mono',consolas,'Courier New',monospace\">┏━━━━━━━━━━━━━━━━━━━━━━━━━━━━━━━━━┳━━━━━━━━━━━━━━━━━━━━━━━━┳━━━━━━━━━━━━━━━┓\n",
              "┃<span style=\"font-weight: bold\"> Layer (type)                    </span>┃<span style=\"font-weight: bold\"> Output Shape           </span>┃<span style=\"font-weight: bold\">       Param # </span>┃\n",
              "┡━━━━━━━━━━━━━━━━━━━━━━━━━━━━━━━━━╇━━━━━━━━━━━━━━━━━━━━━━━━╇━━━━━━━━━━━━━━━┩\n",
              "│ embedding (<span style=\"color: #0087ff; text-decoration-color: #0087ff\">Embedding</span>)           │ (<span style=\"color: #00d7ff; text-decoration-color: #00d7ff\">None</span>, <span style=\"color: #00af00; text-decoration-color: #00af00\">3</span>, <span style=\"color: #00af00; text-decoration-color: #00af00\">16</span>)          │         <span style=\"color: #00af00; text-decoration-color: #00af00\">1,600</span> │\n",
              "├─────────────────────────────────┼────────────────────────┼───────────────┤\n",
              "│ global_average_pooling1d        │ (<span style=\"color: #00d7ff; text-decoration-color: #00d7ff\">None</span>, <span style=\"color: #00af00; text-decoration-color: #00af00\">16</span>)             │             <span style=\"color: #00af00; text-decoration-color: #00af00\">0</span> │\n",
              "│ (<span style=\"color: #0087ff; text-decoration-color: #0087ff\">GlobalAveragePooling1D</span>)        │                        │               │\n",
              "├─────────────────────────────────┼────────────────────────┼───────────────┤\n",
              "│ dense (<span style=\"color: #0087ff; text-decoration-color: #0087ff\">Dense</span>)                   │ (<span style=\"color: #00d7ff; text-decoration-color: #00d7ff\">None</span>, <span style=\"color: #00af00; text-decoration-color: #00af00\">16</span>)             │           <span style=\"color: #00af00; text-decoration-color: #00af00\">272</span> │\n",
              "├─────────────────────────────────┼────────────────────────┼───────────────┤\n",
              "│ dense_1 (<span style=\"color: #0087ff; text-decoration-color: #0087ff\">Dense</span>)                 │ (<span style=\"color: #00d7ff; text-decoration-color: #00d7ff\">None</span>, <span style=\"color: #00af00; text-decoration-color: #00af00\">1</span>)              │            <span style=\"color: #00af00; text-decoration-color: #00af00\">17</span> │\n",
              "└─────────────────────────────────┴────────────────────────┴───────────────┘\n",
              "</pre>\n"
            ]
          },
          "metadata": {}
        },
        {
          "output_type": "display_data",
          "data": {
            "text/plain": [
              "\u001b[1m Total params: \u001b[0m\u001b[38;5;34m1,889\u001b[0m (7.38 KB)\n"
            ],
            "text/html": [
              "<pre style=\"white-space:pre;overflow-x:auto;line-height:normal;font-family:Menlo,'DejaVu Sans Mono',consolas,'Courier New',monospace\"><span style=\"font-weight: bold\"> Total params: </span><span style=\"color: #00af00; text-decoration-color: #00af00\">1,889</span> (7.38 KB)\n",
              "</pre>\n"
            ]
          },
          "metadata": {}
        },
        {
          "output_type": "display_data",
          "data": {
            "text/plain": [
              "\u001b[1m Trainable params: \u001b[0m\u001b[38;5;34m1,889\u001b[0m (7.38 KB)\n"
            ],
            "text/html": [
              "<pre style=\"white-space:pre;overflow-x:auto;line-height:normal;font-family:Menlo,'DejaVu Sans Mono',consolas,'Courier New',monospace\"><span style=\"font-weight: bold\"> Trainable params: </span><span style=\"color: #00af00; text-decoration-color: #00af00\">1,889</span> (7.38 KB)\n",
              "</pre>\n"
            ]
          },
          "metadata": {}
        },
        {
          "output_type": "display_data",
          "data": {
            "text/plain": [
              "\u001b[1m Non-trainable params: \u001b[0m\u001b[38;5;34m0\u001b[0m (0.00 B)\n"
            ],
            "text/html": [
              "<pre style=\"white-space:pre;overflow-x:auto;line-height:normal;font-family:Menlo,'DejaVu Sans Mono',consolas,'Courier New',monospace\"><span style=\"font-weight: bold\"> Non-trainable params: </span><span style=\"color: #00af00; text-decoration-color: #00af00\">0</span> (0.00 B)\n",
              "</pre>\n"
            ]
          },
          "metadata": {}
        }
      ]
    },
    {
      "cell_type": "code",
      "source": [
        "# Compile and train\n",
        "import numpy as np\n",
        "\n",
        "# Convert labels list to numpy array\n",
        "labels = np.array(labels)\n",
        "\n",
        "# Compile and train\n",
        "model.compile(loss='binary_crossentropy', optimizer='adam', metrics=['accuracy'])\n",
        "model.fit(padded, labels, epochs=5, verbose=2)\n",
        "\n"
      ],
      "metadata": {
        "colab": {
          "base_uri": "https://localhost:8080/"
        },
        "id": "E3Jpw9z0zAdU",
        "outputId": "9b6b3ef1-457c-431a-88aa-63cb0a6ed181"
      },
      "execution_count": 14,
      "outputs": [
        {
          "output_type": "stream",
          "name": "stdout",
          "text": [
            "Epoch 1/5\n",
            "1/1 - 3s - 3s/step - accuracy: 0.6667 - loss: 0.6912\n",
            "Epoch 2/5\n",
            "1/1 - 0s - 141ms/step - accuracy: 0.8333 - loss: 0.6896\n",
            "Epoch 3/5\n",
            "1/1 - 0s - 90ms/step - accuracy: 0.8333 - loss: 0.6882\n",
            "Epoch 4/5\n",
            "1/1 - 0s - 128ms/step - accuracy: 0.8333 - loss: 0.6868\n",
            "Epoch 5/5\n",
            "1/1 - 0s - 74ms/step - accuracy: 0.8333 - loss: 0.6854\n"
          ]
        },
        {
          "output_type": "execute_result",
          "data": {
            "text/plain": [
              "<keras.src.callbacks.history.History at 0x7f562248ee90>"
            ]
          },
          "metadata": {},
          "execution_count": 14
        }
      ]
    },
    {
      "cell_type": "code",
      "source": [
        "# 9. Testing on new sentences\n",
        "test_sentences = [\"I love this subject!\", \"This is terrible.\"]\n",
        "cleaned_test = [preprocess_text(sent) for sent in test_sentences]\n",
        "test_seq = tokenizer.texts_to_sequences(cleaned_test)\n",
        "test_pad = pad_sequences(test_seq, padding='post', maxlen=padded.shape[1])\n",
        "\n",
        "predictions = model.predict(test_pad)\n",
        "\n",
        "for i, sentence in enumerate(test_sentences):\n",
        "    sentiment = \"Positive\" if predictions[i][0] > 0.5 else \"Negative\"\n",
        "    print(f\"'{sentence}' → {sentiment} ({predictions[i][0]:.2f})\")"
      ],
      "metadata": {
        "colab": {
          "base_uri": "https://localhost:8080/"
        },
        "id": "Z_-CfrZi2oMt",
        "outputId": "697df0e4-f2a0-4cef-a905-c82916d2d079"
      },
      "execution_count": 15,
      "outputs": [
        {
          "output_type": "stream",
          "name": "stdout",
          "text": [
            "\u001b[1m1/1\u001b[0m \u001b[32m━━━━━━━━━━━━━━━━━━━━\u001b[0m\u001b[37m\u001b[0m \u001b[1m0s\u001b[0m 147ms/step\n",
            "'I love this subject!' → Positive (0.50)\n",
            "'This is terrible.' → Negative (0.50)\n"
          ]
        }
      ]
    }
  ]
}